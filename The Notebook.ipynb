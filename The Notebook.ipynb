{
 "cells": [
  {
   "cell_type": "markdown",
   "id": "4eb0976c",
   "metadata": {},
   "source": [
    "# Welcome To the Notebook\n",
    "\n",
    "---"
   ]
  },
  {
   "cell_type": "markdown",
   "id": "3ed071c3",
   "metadata": {},
   "source": [
    "### Task 1 \n",
    "What is a variable?"
   ]
  },
  {
   "cell_type": "markdown",
   "id": "cc729259",
   "metadata": {},
   "source": [
    "<center><img width = 600 height = 500 src=\"images/1.jpg\"></center>"
   ]
  },
  {
   "cell_type": "markdown",
   "id": "98f6381f",
   "metadata": {},
   "source": [
    "### Python Variable Types:\n",
    "- Numeric \n",
    "    - integer\n",
    "    - float\n",
    "- String "
   ]
  },
  {
   "cell_type": "markdown",
   "id": "be5a0b94",
   "metadata": {},
   "source": [
    " \n",
    " ### Numeric Variables\n",
    " Let's declare a variable with a *integer* value"
   ]
  },
  {
   "cell_type": "code",
   "execution_count": 1,
   "id": "a13f96b1",
   "metadata": {},
   "outputs": [
    {
     "name": "stdout",
     "output_type": "stream",
     "text": [
      "22\n"
     ]
    }
   ],
   "source": [
    "age=22\n",
    "print(age)"
   ]
  },
  {
   "cell_type": "markdown",
   "id": "f5972e2c",
   "metadata": {},
   "source": [
    "Let's create a `Width` and `Height` variables to store Width and Height of a rectangle  "
   ]
  },
  {
   "cell_type": "code",
   "execution_count": 2,
   "id": "e825351b",
   "metadata": {},
   "outputs": [],
   "source": [
    "width=5\n",
    "height=10"
   ]
  },
  {
   "cell_type": "markdown",
   "id": "6dd557e1",
   "metadata": {},
   "source": [
    "Let's calculate the area of the rectangle "
   ]
  },
  {
   "cell_type": "code",
   "execution_count": 3,
   "id": "9690b323",
   "metadata": {},
   "outputs": [
    {
     "data": {
      "text/plain": [
       "50"
      ]
     },
     "execution_count": 3,
     "metadata": {},
     "output_type": "execute_result"
    }
   ],
   "source": [
    "area=width*height\n",
    "area"
   ]
  },
  {
   "cell_type": "markdown",
   "id": "7ed22419",
   "metadata": {},
   "source": [
    "Let's declare two variables called `circle_radius` and `pi`."
   ]
  },
  {
   "cell_type": "code",
   "execution_count": 4,
   "id": "ad5d34ef",
   "metadata": {},
   "outputs": [],
   "source": [
    "radius=4\n",
    "pi=3.14"
   ]
  },
  {
   "cell_type": "markdown",
   "id": "1fdb4dd2",
   "metadata": {},
   "source": [
    "Now let's calculate the area of the circle"
   ]
  },
  {
   "cell_type": "code",
   "execution_count": 5,
   "id": "462b1b2b",
   "metadata": {},
   "outputs": [
    {
     "data": {
      "text/plain": [
       "50.24"
      ]
     },
     "execution_count": 5,
     "metadata": {},
     "output_type": "execute_result"
    }
   ],
   "source": [
    "pi*(radius)**2"
   ]
  },
  {
   "cell_type": "markdown",
   "id": "af87fa8f",
   "metadata": {},
   "source": [
    "### Task 2 \n",
    "### String Variables\n",
    "Let's declare a variable with string value"
   ]
  },
  {
   "cell_type": "code",
   "execution_count": 7,
   "id": "b4945d59",
   "metadata": {},
   "outputs": [
    {
     "name": "stdout",
     "output_type": "stream",
     "text": [
      "John\n",
      "21\n"
     ]
    }
   ],
   "source": [
    "name='John'\n",
    "print(name)\n",
    "age='21'\n",
    "print(age)"
   ]
  },
  {
   "cell_type": "markdown",
   "id": "cd858817",
   "metadata": {},
   "source": [
    "Concatenate two strings"
   ]
  },
  {
   "cell_type": "code",
   "execution_count": 12,
   "id": "4ba6979c",
   "metadata": {},
   "outputs": [
    {
     "data": {
      "text/plain": [
       "'helloRidham'"
      ]
     },
     "execution_count": 12,
     "metadata": {},
     "output_type": "execute_result"
    }
   ],
   "source": [
    "a='hello'\n",
    "b='Ridham'\n",
    "greetings=a+b\n",
    "greetings"
   ]
  },
  {
   "cell_type": "markdown",
   "id": "826372f8",
   "metadata": {},
   "source": [
    "Exercise: Store your first and lastname in two variables. Concatenate them with a space in between and print the result."
   ]
  },
  {
   "cell_type": "code",
   "execution_count": 13,
   "id": "081112c3",
   "metadata": {},
   "outputs": [
    {
     "data": {
      "text/plain": [
       "'Ridham Garg'"
      ]
     },
     "execution_count": 13,
     "metadata": {},
     "output_type": "execute_result"
    }
   ],
   "source": [
    "a='Ridham'\n",
    "b='Garg'\n",
    "greetings=a+' '+b\n",
    "greetings"
   ]
  },
  {
   "cell_type": "markdown",
   "id": "fdcc8bea",
   "metadata": {},
   "source": [
    "Repeating a string"
   ]
  },
  {
   "cell_type": "code",
   "execution_count": 16,
   "id": "14dc0085",
   "metadata": {},
   "outputs": [
    {
     "data": {
      "text/plain": [
       "'RidhamRidhamRidham'"
      ]
     },
     "execution_count": 16,
     "metadata": {},
     "output_type": "execute_result"
    }
   ],
   "source": [
    "3*a"
   ]
  },
  {
   "cell_type": "markdown",
   "id": "90ad2365",
   "metadata": {},
   "source": [
    "Get the length of a string"
   ]
  },
  {
   "cell_type": "code",
   "execution_count": 19,
   "id": "c6c3e7b3",
   "metadata": {},
   "outputs": [
    {
     "name": "stdout",
     "output_type": "stream",
     "text": [
      "22\n"
     ]
    }
   ],
   "source": [
    "sentance='my name is Ridham Garg'\n",
    "sentence_length=len(sentance)\n",
    "print(sentence_length)"
   ]
  },
  {
   "cell_type": "markdown",
   "id": "93d05358",
   "metadata": {},
   "source": [
    "Checking the *first* character of the sentence"
   ]
  },
  {
   "cell_type": "code",
   "execution_count": 21,
   "id": "4c701e87",
   "metadata": {},
   "outputs": [
    {
     "data": {
      "text/plain": [
       "'m'"
      ]
     },
     "execution_count": 21,
     "metadata": {},
     "output_type": "execute_result"
    }
   ],
   "source": [
    "sentance[0]"
   ]
  },
  {
   "cell_type": "markdown",
   "id": "93127357",
   "metadata": {},
   "source": [
    "Checking the *last* character of the sentence"
   ]
  },
  {
   "cell_type": "code",
   "execution_count": 22,
   "id": "5b618147",
   "metadata": {},
   "outputs": [
    {
     "data": {
      "text/plain": [
       "'g'"
      ]
     },
     "execution_count": 22,
     "metadata": {},
     "output_type": "execute_result"
    }
   ],
   "source": [
    "sentance[-1]"
   ]
  },
  {
   "cell_type": "markdown",
   "id": "f440adec",
   "metadata": {},
   "source": [
    "Checking the first four characters of the sentence"
   ]
  },
  {
   "cell_type": "code",
   "execution_count": 23,
   "id": "9f67642e",
   "metadata": {},
   "outputs": [
    {
     "data": {
      "text/plain": [
       "'my n'"
      ]
     },
     "execution_count": 23,
     "metadata": {},
     "output_type": "execute_result"
    }
   ],
   "source": [
    "sentance[:4]"
   ]
  },
  {
   "cell_type": "markdown",
   "id": "44cd414b",
   "metadata": {},
   "source": [
    "Checking the last four characters of the sentence"
   ]
  },
  {
   "cell_type": "code",
   "execution_count": 25,
   "id": "5bb6eeae",
   "metadata": {},
   "outputs": [
    {
     "data": {
      "text/plain": [
       "'Garg'"
      ]
     },
     "execution_count": 25,
     "metadata": {},
     "output_type": "execute_result"
    }
   ],
   "source": [
    "sentance[-4:]"
   ]
  },
  {
   "cell_type": "markdown",
   "id": "ffdda716",
   "metadata": {},
   "source": [
    "Check if a string contains another string"
   ]
  },
  {
   "cell_type": "code",
   "execution_count": 27,
   "id": "06d87681",
   "metadata": {},
   "outputs": [
    {
     "data": {
      "text/plain": [
       "False"
      ]
     },
     "execution_count": 27,
     "metadata": {},
     "output_type": "execute_result"
    }
   ],
   "source": [
    "'My' in sentance "
   ]
  },
  {
   "cell_type": "markdown",
   "id": "2f6ee743",
   "metadata": {},
   "source": [
    "### Task 3 \n",
    "Built-in String Methods\n",
    "Python provides a number of built-in methods for manipulating strings. Some of the most commonly used methods are:\n",
    "\n",
    "- `lower(): returns the string in lowercase`\n",
    "- `upper(): returns the string in uppercase`\n",
    "- `capitalize(): returns the string with the first character capitalized`\n",
    "- `count(substring): returns the number of occurrences of the substring in the string`\n",
    "- `replace(old, new): returns a new string with all occurrences of old replaced with new`\n",
    "- `strip(): returns a new string with leading and trailing whitespaces removed`\n",
    "- `split(delimiter): returns a list of substrings separated by the delimiter`"
   ]
  },
  {
   "cell_type": "code",
   "execution_count": 28,
   "id": "6fefd708",
   "metadata": {},
   "outputs": [
    {
     "name": "stdout",
     "output_type": "stream",
     "text": [
      " the Cat is Sleeping. The Dog is Barking and the sky is blue. \n"
     ]
    }
   ],
   "source": [
    "sentence = \" the Cat is Sleeping. The Dog is Barking and the sky is blue. \"\n",
    "print(sentence)"
   ]
  },
  {
   "cell_type": "markdown",
   "id": "37fe39f5",
   "metadata": {},
   "source": [
    "Convert a string to uppercase"
   ]
  },
  {
   "cell_type": "code",
   "execution_count": 29,
   "id": "8316249c",
   "metadata": {},
   "outputs": [
    {
     "data": {
      "text/plain": [
       "' THE CAT IS SLEEPING. THE DOG IS BARKING AND THE SKY IS BLUE. '"
      ]
     },
     "execution_count": 29,
     "metadata": {},
     "output_type": "execute_result"
    }
   ],
   "source": [
    "sentence.upper()"
   ]
  },
  {
   "cell_type": "markdown",
   "id": "fe17af5c",
   "metadata": {},
   "source": [
    "Convert a string to lowercase"
   ]
  },
  {
   "cell_type": "code",
   "execution_count": 30,
   "id": "e6c6c13b",
   "metadata": {},
   "outputs": [
    {
     "data": {
      "text/plain": [
       "' the cat is sleeping. the dog is barking and the sky is blue. '"
      ]
     },
     "execution_count": 30,
     "metadata": {},
     "output_type": "execute_result"
    }
   ],
   "source": [
    "sentence.lower()"
   ]
  },
  {
   "cell_type": "markdown",
   "id": "5471f67b",
   "metadata": {},
   "source": [
    "Capitalize the first character"
   ]
  },
  {
   "cell_type": "code",
   "execution_count": 31,
   "id": "db0cd5a4",
   "metadata": {},
   "outputs": [
    {
     "data": {
      "text/plain": [
       "'Hello john. my name is ridham'"
      ]
     },
     "execution_count": 31,
     "metadata": {},
     "output_type": "execute_result"
    }
   ],
   "source": [
    "greeting='hello john. My name is Ridham'\n",
    "greeting.capitalize()"
   ]
  },
  {
   "cell_type": "markdown",
   "id": "73ca50b7",
   "metadata": {},
   "source": [
    "Counting the number of occurrences of a the substring 'is'"
   ]
  },
  {
   "cell_type": "code",
   "execution_count": 33,
   "id": "499cae4d",
   "metadata": {},
   "outputs": [
    {
     "data": {
      "text/plain": [
       "3"
      ]
     },
     "execution_count": 33,
     "metadata": {},
     "output_type": "execute_result"
    }
   ],
   "source": [
    "sentence.count('is')"
   ]
  },
  {
   "cell_type": "markdown",
   "id": "bbc61105",
   "metadata": {},
   "source": [
    "Removing the leading and trailing "
   ]
  },
  {
   "cell_type": "code",
   "execution_count": 34,
   "id": "47cd79cc",
   "metadata": {},
   "outputs": [
    {
     "data": {
      "text/plain": [
       "'the Cat is Sleeping. The Dog is Barking and the sky is blue.'"
      ]
     },
     "execution_count": 34,
     "metadata": {},
     "output_type": "execute_result"
    }
   ],
   "source": [
    "sentence.strip()"
   ]
  },
  {
   "cell_type": "code",
   "execution_count": 36,
   "id": "d8d4eeb2",
   "metadata": {},
   "outputs": [
    {
     "data": {
      "text/plain": [
       "['the',\n",
       " 'Cat',\n",
       " 'is',\n",
       " 'Sleeping.',\n",
       " 'The',\n",
       " 'Dog',\n",
       " 'is',\n",
       " 'Barking',\n",
       " 'and',\n",
       " 'the',\n",
       " 'sky',\n",
       " 'is',\n",
       " 'blue.']"
      ]
     },
     "execution_count": 36,
     "metadata": {},
     "output_type": "execute_result"
    }
   ],
   "source": [
    "words=sentence.strip().split(\" \")\n",
    "words"
   ]
  },
  {
   "cell_type": "markdown",
   "id": "d2d48942",
   "metadata": {},
   "source": [
    "Check the first word of the sentence"
   ]
  },
  {
   "cell_type": "code",
   "execution_count": 37,
   "id": "fe058573",
   "metadata": {},
   "outputs": [
    {
     "data": {
      "text/plain": [
       "'the'"
      ]
     },
     "execution_count": 37,
     "metadata": {},
     "output_type": "execute_result"
    }
   ],
   "source": [
    "words[0]"
   ]
  },
  {
   "cell_type": "markdown",
   "id": "d48f8a74",
   "metadata": {},
   "source": [
    "### Task 4\n",
    "\n",
    "### Shopping List Cost Analysis\n",
    "\n",
    "A shopping list is a list of items that a person wants to buy. The list may include the name of each item, its cost, and its quantity."
   ]
  },
  {
   "cell_type": "markdown",
   "id": "0e3fa4ab",
   "metadata": {},
   "source": [
    "Loading the shopping list from a text file"
   ]
  },
  {
   "cell_type": "code",
   "execution_count": 40,
   "id": "2f063306",
   "metadata": {},
   "outputs": [
    {
     "data": {
      "text/plain": [
       "'\\tEggs - $0.98 x 10, Milk - $1.23 x 6, Bread - $2.10 x 4, Apples - $1.42 x 5, Bananas - $0.79 x 3, Rice - $2.20 x 8, Chicken - $4.99 x 2, Cheese - $3.75 x 4, Ice Cream - $5.99 x 3, Coffee - $6.99 x 4,\\n Tomatoes - $1.49 x 6, Carrots - $0.89 x 5, Onions - $0.59 x 4, Bell Peppers - $1.19 x 3, Garlic - $0.49 x 2, Ginger - $0.99 x 1, Lemon - $0.69 x 4, Orange - $0.89 x 5, Grapes - $1.99 x 3,\\n Biscuits - $2.20 x 4, Snacks - $1.50 x 6, Chips - $2.99 x 4, Chocolate - $3.50 x 3, Candy - $1.25 x 5, Cookies - $2.10 x 4, Nuts - $4.99 x 2, Crackers - $2.75 x 6, Popcorn - $1.50 x 4,\\n Soda - $2.20 x 6, Juice - $2.50 x 5, Milk shake - $4.99 x 3, Water - $1.00 x 10, Tea - $3.50 x 4, Coffee - $6.99 x 4, Energy Drink - $3.75 x 5, Wine - $12.99 x 2, Beer - $8.99 x 4,\\n Spaghetti - $2.10 x 4, Rice - $2.20 x 8, Noodles - $1.99 x 6, Flour - $1.50 x 5, Sugar - $1.99 x 4, Salt - $0.75 x 3, Pepper - $0.99 x 2, Cooking Oil - $4.50 x 3, Vinegar - $2.75 x 4,\\n Laundry Detergent - $5.99 x 2, Dish Soap - $3.75 x 3, Toilet Cleaner - $2.50 x 2, All-Purpose Cleaner - $3.99 x 4, Glass Cleaner - $2.75 x 3, Paper Towels - $2.50 x 6, Trash Bags - $6.99 x 4,\\n Shampoo - $5.99 x 4, Conditioner - $5.99 x 4, Soap - $2.50 x 6, Body Wash - $5.50 x 4, Toothpaste - $2.99 x 4, Toothbrush - $1.50 x 6, Deodorant - $3.99 x 3, Razor - $5.99 x 2, Shaving Cream - $3.75 x 4,\\n Tissues - $1.50 x 6, Paper Cups - $2.99 x 4, Paper Plates - $2.75 x 3, Plastic Utensils - $3.99 x 4, Aluminum Foil - $3.99 x 3, Plastic Wrap - $2.75 x 4, Zip-Lock Bags - $3.50 x 6,\\n Pet Food - $8.99 x 2, Cat Litter - $5.99 x 3, Dog Treats - $4.50 x 4, Bird Seed - $2.99 x 6 '"
      ]
     },
     "execution_count": 40,
     "metadata": {},
     "output_type": "execute_result"
    }
   ],
   "source": [
    "with open('Shopping List.txt','r') as file:\n",
    "    shopping_list = file.read()\n",
    "shopping_list"
   ]
  },
  {
   "cell_type": "markdown",
   "id": "0507d282",
   "metadata": {},
   "source": [
    "Removing `newline` character from text "
   ]
  },
  {
   "cell_type": "code",
   "execution_count": 41,
   "id": "408ee6df",
   "metadata": {},
   "outputs": [],
   "source": [
    "shopping_list=shopping_list.replace(\"\\n\",\"\")"
   ]
  },
  {
   "cell_type": "markdown",
   "id": "121bf138",
   "metadata": {},
   "source": [
    "removing the leading and trailing white space"
   ]
  },
  {
   "cell_type": "code",
   "execution_count": 42,
   "id": "1e7be224",
   "metadata": {},
   "outputs": [],
   "source": [
    "shopping_list=shopping_list.strip()"
   ]
  },
  {
   "cell_type": "markdown",
   "id": "f9c52e8a",
   "metadata": {},
   "source": [
    "Let's split the shopping list into a list of items"
   ]
  },
  {
   "cell_type": "code",
   "execution_count": 46,
   "id": "0924e430",
   "metadata": {},
   "outputs": [],
   "source": [
    "items=shopping_list.split(\",\")"
   ]
  },
  {
   "cell_type": "code",
   "execution_count": 47,
   "id": "b442db0f",
   "metadata": {},
   "outputs": [
    {
     "data": {
      "text/plain": [
       "[' Milk - $1.23 x 6',\n",
       " ' Bread - $2.10 x 4',\n",
       " ' Apples - $1.42 x 5',\n",
       " ' Bananas - $0.79 x 3']"
      ]
     },
     "execution_count": 47,
     "metadata": {},
     "output_type": "execute_result"
    }
   ],
   "source": [
    "items[1:5]"
   ]
  },
  {
   "cell_type": "markdown",
   "id": "d39bf94c",
   "metadata": {},
   "source": [
    "Let's convert our unstructured list into a more structured one."
   ]
  },
  {
   "cell_type": "code",
   "execution_count": 58,
   "id": "b3eeead6",
   "metadata": {},
   "outputs": [
    {
     "data": {
      "text/plain": [
       "['Eggs,9.8',\n",
       " ' Milk,7.38',\n",
       " ' Bread,8.4',\n",
       " ' Apples,7.1',\n",
       " ' Bananas,2.37',\n",
       " ' Rice,17.6',\n",
       " ' Chicken,9.98',\n",
       " ' Cheese,15.0',\n",
       " ' Ice Cream,17.97',\n",
       " ' Coffee,27.96',\n",
       " ' Tomatoes,8.94',\n",
       " ' Carrots,4.45',\n",
       " ' Onions,2.36',\n",
       " ' Bell Peppers,3.57',\n",
       " ' Garlic,0.98',\n",
       " ' Ginger,0.99',\n",
       " ' Lemon,2.76',\n",
       " ' Orange,4.45',\n",
       " ' Grapes,5.97',\n",
       " ' Biscuits,8.8',\n",
       " ' Snacks,9.0',\n",
       " ' Chips,11.96',\n",
       " ' Chocolate,10.5',\n",
       " ' Candy,6.25',\n",
       " ' Cookies,8.4',\n",
       " ' Nuts,9.98',\n",
       " ' Crackers,16.5',\n",
       " ' Popcorn,6.0',\n",
       " ' Soda,13.200000000000001',\n",
       " ' Juice,12.5',\n",
       " ' Milk shake,14.97',\n",
       " ' Water,10.0',\n",
       " ' Tea,14.0',\n",
       " ' Coffee,27.96',\n",
       " ' Energy Drink,18.75',\n",
       " ' Wine,25.98',\n",
       " ' Beer,35.96',\n",
       " ' Spaghetti,8.4',\n",
       " ' Rice,17.6',\n",
       " ' Noodles,11.94',\n",
       " ' Flour,7.5',\n",
       " ' Sugar,7.96',\n",
       " ' Salt,2.25',\n",
       " ' Pepper,1.98',\n",
       " ' Cooking Oil,13.5',\n",
       " ' Vinegar,11.0',\n",
       " ' Laundry Detergent,11.98',\n",
       " ' Dish Soap,11.25',\n",
       " ' Toilet Cleaner,5.0',\n",
       " ' All-Purpose Cleaner,15.96',\n",
       " ' Glass Cleaner,8.25',\n",
       " ' Paper Towels,15.0',\n",
       " ' Trash Bags,27.96',\n",
       " ' Shampoo,23.96',\n",
       " ' Conditioner,23.96',\n",
       " ' Soap,15.0',\n",
       " ' Body Wash,22.0',\n",
       " ' Toothpaste,11.96',\n",
       " ' Toothbrush,9.0',\n",
       " ' Deodorant,11.97',\n",
       " ' Razor,11.98',\n",
       " ' Shaving Cream,15.0',\n",
       " ' Tissues,9.0',\n",
       " ' Paper Cups,11.96',\n",
       " ' Paper Plates,8.25',\n",
       " ' Plastic Utensils,15.96',\n",
       " ' Aluminum Foil,11.97',\n",
       " ' Plastic Wrap,11.0',\n",
       " ' Zip-Lock Bags,21.0',\n",
       " ' Pet Food,17.98',\n",
       " ' Cat Litter,17.97',\n",
       " ' Dog Treats,18.0',\n",
       " ' Bird Seed,17.94']"
      ]
     },
     "execution_count": 58,
     "metadata": {},
     "output_type": "execute_result"
    }
   ],
   "source": [
    "new_items=[]\n",
    "for item in items:\n",
    "    item_name=item.split(\" - \")[0]\n",
    "    item_price_quantity=item.split(\" - \")[1]\n",
    "    item_price_quantity=item_price_quantity.replace(\"$\",\"\")\n",
    "    item_price=float(item_price_quantity.split(' x ')[0])\n",
    "    item_quantity=float(item_price_quantity.split(' x ')[1])\n",
    "    item_cost=item_price*item_quantity\n",
    "    new_item=item_name +','+str(item_cost)\n",
    "    new_items.append(new_item)\n",
    "new_items"
   ]
  },
  {
   "cell_type": "markdown",
   "id": "394e3aca",
   "metadata": {},
   "source": [
    "Converting the new list into a string"
   ]
  },
  {
   "cell_type": "code",
   "execution_count": 60,
   "id": "7886ebe8",
   "metadata": {},
   "outputs": [],
   "source": [
    "new_shopping_list=\"|\".join(new_items)"
   ]
  },
  {
   "cell_type": "markdown",
   "id": "2c2f5c6a",
   "metadata": {},
   "source": [
    "### Task 5\n",
    "Find the total cost of the shopping list"
   ]
  },
  {
   "cell_type": "code",
   "execution_count": 61,
   "id": "c860d1c1",
   "metadata": {},
   "outputs": [
    {
     "data": {
      "text/plain": [
       "[9.8,\n",
       " 7.38,\n",
       " 8.4,\n",
       " 7.1,\n",
       " 2.37,\n",
       " 17.6,\n",
       " 9.98,\n",
       " 15.0,\n",
       " 17.97,\n",
       " 27.96,\n",
       " 8.94,\n",
       " 4.45,\n",
       " 2.36,\n",
       " 3.57,\n",
       " 0.98,\n",
       " 0.99,\n",
       " 2.76,\n",
       " 4.45,\n",
       " 5.97,\n",
       " 8.8,\n",
       " 9.0,\n",
       " 11.96,\n",
       " 10.5,\n",
       " 6.25,\n",
       " 8.4,\n",
       " 9.98,\n",
       " 16.5,\n",
       " 6.0,\n",
       " 13.200000000000001,\n",
       " 12.5,\n",
       " 14.97,\n",
       " 10.0,\n",
       " 14.0,\n",
       " 27.96,\n",
       " 18.75,\n",
       " 25.98,\n",
       " 35.96,\n",
       " 8.4,\n",
       " 17.6,\n",
       " 11.94,\n",
       " 7.5,\n",
       " 7.96,\n",
       " 2.25,\n",
       " 1.98,\n",
       " 13.5,\n",
       " 11.0,\n",
       " 11.98,\n",
       " 11.25,\n",
       " 5.0,\n",
       " 15.96,\n",
       " 8.25,\n",
       " 15.0,\n",
       " 27.96,\n",
       " 23.96,\n",
       " 23.96,\n",
       " 15.0,\n",
       " 22.0,\n",
       " 11.96,\n",
       " 9.0,\n",
       " 11.97,\n",
       " 11.98,\n",
       " 15.0,\n",
       " 9.0,\n",
       " 11.96,\n",
       " 8.25,\n",
       " 15.96,\n",
       " 11.97,\n",
       " 11.0,\n",
       " 21.0,\n",
       " 17.98,\n",
       " 17.97,\n",
       " 18.0,\n",
       " 17.94]"
      ]
     },
     "execution_count": 61,
     "metadata": {},
     "output_type": "execute_result"
    }
   ],
   "source": [
    "items=new_shopping_list.split(\"|\")\n",
    "costs=[]\n",
    "for item in items:\n",
    "    \n",
    "  cost=float(item.split(\",\")[1])\n",
    "  costs.append(cost)\n",
    "costs"
   ]
  },
  {
   "cell_type": "code",
   "execution_count": 62,
   "id": "58897845",
   "metadata": {},
   "outputs": [
    {
     "data": {
      "text/plain": [
       "902.1300000000005"
      ]
     },
     "execution_count": 62,
     "metadata": {},
     "output_type": "execute_result"
    }
   ],
   "source": [
    "sum(costs)"
   ]
  },
  {
   "cell_type": "markdown",
   "id": "9078310f",
   "metadata": {},
   "source": [
    "Let's use a barchart to visualize item prices "
   ]
  },
  {
   "cell_type": "code",
   "execution_count": 66,
   "id": "d5b3db01",
   "metadata": {},
   "outputs": [
    {
     "data": {
      "image/png": "[encoded data removed]",
      "text/plain": [
       "<Figure size 960x480 with 1 Axes>"
      ]
     },
     "metadata": {},
     "output_type": "display_data"
    }
   ],
   "source": [
    "import matplotlib.pyplot as plt\n",
    "from matplotlib.pyplot import figure\n",
    "names=[]\n",
    "# Configuring the chart size\n",
    "figure(figsize=(12, 6), dpi=80)\n",
    "names=[]\n",
    "for item in items:\n",
    "    name=item.split(\",\")[0]\n",
    "    names.append(name)\n",
    "    \n",
    "plt.bar(names,costs)\n",
    "plt.xlabel(\"items\")\n",
    "plt.ylabel(\"costs\")\n",
    "plt.title(\"cost distribution per item\")\n",
    "plt.xticks(rotation=90)\n",
    "plt.show()\n"
   ]
  }
 ],
 "metadata": {
  "kernelspec": {
   "display_name": "Python 3 (ipykernel)",
   "language": "python",
   "name": "python3"
  },
  "language_info": {
   "codemirror_mode": {
    "name": "ipython",
    "version": 3
   },
   "file_extension": ".py",
   "mimetype": "text/x-python",
   "name": "python",
   "nbconvert_exporter": "python",
   "pygments_lexer": "ipython3",
   "version": "3.10.6"
  }
 },
 "nbformat": 4,
 "nbformat_minor": 5
}
